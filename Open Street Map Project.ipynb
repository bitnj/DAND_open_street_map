{
 "cells": [
  {
   "cell_type": "markdown",
   "metadata": {},
   "source": [
    "## Open Street Map Data Wrangling Project\n",
    "\n",
    "### Location: [Edinburgh Scotland](http://www.openstreetmap.org/export#map=14/55.9427/-3.1858)\n",
    "\n",
    "By complete chance my wife and two good friends ended up here on the same days in the same hotel.  The best I can do is this map.\n",
    "\n",
    "The data file for the whole city of Edinburgh was rather large so I took a manually selected subset of the city and exported it using the [Overpass API](http://overpass-api.de/api/map?bbox=-3.2261,55.9312,-3.1595,55.9562).\n"
   ]
  },
  {
   "cell_type": "markdown",
   "metadata": {},
   "source": [
    "### Importing the schema to MySQL\n",
    "\n",
    "The provided .sql had to be modified for use with MySQL because the column names **key** and **value** are reserved words in MySQL.  They simply need to be escaped by surrounding them in back-ticks (e.g. **\\`key\\`** and **\\`value\\`**) in the .sql file.\n",
    "\n",
    "From the command line:\n",
    "```bash\n",
    "mysql -u username -p database_name < schema_file.sql\n",
    "```\n",
    "[StackOverflow](https://stackoverflow.com/questions/17666249/how-to-import-an-sql-file-using-the-command-line-in-mysql)\n",
    "\n",
    "### Importing the csv files to MySQL\n",
    "\n",
    "From command line (repeat for each of the csv files):\n",
    "```sql\n",
    "mysqlimport --ignore-lines=1 --fields-terminated-by=, --verbose --local -u root -p open_street_map file.csv\n",
    "```\n",
    "[Import csv to MySQL](https://www.garron.me/en/bits/mysql-import-csv.html)"
   ]
  },
  {
   "cell_type": "markdown",
   "metadata": {},
   "source": [
    "### Data Issues and Questions\n",
    "* Skipped nodes records on import to MySQL\n",
    "* Predominance of node_tags <mark>k=\"source\"</mark> and slight variations of the <mark>v=\"values\"</mark>\n",
    "  \n"
   ]
  },
  {
   "cell_type": "markdown",
   "metadata": {
    "collapsed": true
   },
   "source": [
    "### Skipped node records on import to MySQL\n",
    " * As a result of using the <mark>--verbose</mark> flag during import I was able to see that ***165,602*** out of ***195,524*** nodes records were skipped (i.e. not imported into the table).  After a little investigation of the raw nodes.csv file I noticed that the <mark>id</mark> values were very large.  I looked in the <mark>open_map_project_schema.sql</mark> file and noticed that the <mark>id</mark> fields were set to <mark>INT</mark>.  After looking at the MySQL documentation I was able to determine that the <mark>INT</mark> type can only store values up to ***4,294,967,295*** assuming the field is <mark>UNSIGNED</mark>.  The schema file only specified <mark>INTEGER</mark> so the limit was actually ***2,147,483,647*** and in either case I had id values that were larger.  \n",
    "  I changed all of the columns that were related to ids to the <mark>BIGINT</mark> type.  After that change all nodes loaded successfully. "
   ]
  },
  {
   "cell_type": "markdown",
   "metadata": {},
   "source": [
    "### Node tags where k=\"source\"\n",
    "While exploring the <mark>nodes_tags</mark> table I noticed that **34,017** out of **39,025** or **87%** of the <mark>key</mark> values were <mark>source</mark>.\n",
    "\n",
    "```sql\n",
    "SELECT `key`, COUNT(*) as cnt\n",
    "FROM nodes_tags\n",
    "GROUP BY `key`\n",
    "ORDER BY cnt DESC;\n",
    "```\n",
    "Looking at the distribution of values within the <mark>keys</map> we see that the vast majority of values, **32,321** are **survey** (**18,290**) and **Bing** (**14,031**). In the remainder of the list there are some minor issues.  For example, there are records with values of <mark>naptan_import;survey</mark>, <mark>naptan_import; survey</mark>, <mark>naptan_import/survey</mark>, and <mark>naptan_import;survet</mark>. \n",
    "\n",
    "```sql\n",
    "SELECT `value`, COUNT(*) as cnt\n",
    "FROM nodes_tags\n",
    "WHERE `key`='source'\n",
    "GROUP BY cnt DESC;\n",
    "```"
   ]
  }
 ],
 "metadata": {
  "kernelspec": {
   "display_name": "Python 3",
   "language": "python",
   "name": "python3"
  },
  "language_info": {
   "codemirror_mode": {
    "name": "ipython",
    "version": 3
   },
   "file_extension": ".py",
   "mimetype": "text/x-python",
   "name": "python",
   "nbconvert_exporter": "python",
   "pygments_lexer": "ipython3",
   "version": "3.6.0"
  }
 },
 "nbformat": 4,
 "nbformat_minor": 2
}
