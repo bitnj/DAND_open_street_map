{
 "cells": [
  {
   "cell_type": "markdown",
   "metadata": {},
   "source": [
    "# Open Street Map Data Wrangling Project\n",
    "\n",
    "## Location: [Edinburgh Scotland](http://www.openstreetmap.org/export#map=14/55.9427/-3.1858)\n",
    "\n",
    "By complete chance my wife and two good friends ended up here on the same days in the same hotel.  The best I can do is this map.\n",
    "\n",
    "The data file for the whole city of Edinburgh was rather large so I took a manually selected subset of the city and exported it using the [Overpass API](http://overpass-api.de/api/map?bbox=-3.2261,55.9312,-3.1595,55.9562).\n"
   ]
  },
  {
   "cell_type": "markdown",
   "metadata": {},
   "source": [
    "## Importing the schema to MySQL\n",
    "\n",
    "The provided .sql had to be modified for use with MySQL because the column names **key** and **value** are reserved words in MySQL.  They simply need to be escaped by surrounding them in back-ticks (e.g. **\\`key\\`** and **\\`value\\`**) in the .sql file.\n",
    "\n",
    "From the command line:\n",
    "```bash\n",
    "mysql -u username -p database_name < schema_file.sql\n",
    "```\n",
    "[StackOverflow](https://stackoverflow.com/questions/17666249/how-to-import-an-sql-file-using-the-command-line-in-mysql)\n",
    "\n",
    "## Importing the csv files to MySQL\n",
    "\n",
    "From command line (repeat for each of the csv files):\n",
    "```sql\n",
    "mysqlimport --ignore-lines=1 --fields-terminated-by=, --verbose --local -u root -p open_street_map file.csv\n",
    "```\n",
    "[Import csv to MySQL](https://www.garron.me/en/bits/mysql-import-csv.html)"
   ]
  },
  {
   "cell_type": "markdown",
   "metadata": {},
   "source": [
    "## Data Issues and Questions\n",
    "* Skipped nodes records on import to MySQL\n",
    "* Predominance of node_tags <mark>k=\"source\"</mark> and slight variations of the <mark>v=\"values\"</mark>\n",
    "* v attributes with commas were truncated when being loaded into the database\n",
    "  \n"
   ]
  },
  {
   "cell_type": "markdown",
   "metadata": {
    "collapsed": true
   },
   "source": [
    "### Skipped node records on import to MySQL\n",
    " * Using the <mark>--verbose</mark> flag during import I was able to see that ***165,602*** out of ***195,524*** nodes records were skipped (i.e. not imported into the table).  After some investigation of the raw nodes.csv file I noticed that the <mark>id</mark> values were up to 10 digits long.  In the <mark>open_map_project_schema.sql</mark> file the <mark>id</mark> fields were set to <mark>INT</mark>.  I then looked at the MySQL documentation and was able to determine that the <mark>INT</mark> type can only store values up to ***4,294,967,295*** assuming the field is <mark>UNSIGNED</mark>.  Since the schema file only specified <mark>INTEGER</mark> the limit was ***2,147,483,647***. The largest node ids were larger than the unsigned limit.  \n",
    "  I changed all of the columns that were related to ids to the <mark>BIGINT</mark> type.  After that change all nodes loaded successfully. "
   ]
  },
  {
   "cell_type": "markdown",
   "metadata": {},
   "source": [
    "### Node tags where k=\"source\"\n",
    "While exploring the <mark>nodes_tags</mark> table I noticed that **35,693** out of **159,704** or **22.35%** of the <mark>key</mark> values were <mark>source</mark>."
   ]
  },
  {
   "cell_type": "markdown",
   "metadata": {},
   "source": [
    "```sql\n",
    "SELECT `key`, COUNT(*) as cnt\n",
    "FROM nodes_tags\n",
    "GROUP BY `key`\n",
    "ORDER BY cnt DESC;\n",
    "```"
   ]
  },
  {
   "cell_type": "markdown",
   "metadata": {},
   "source": [
    "Looking at the distribution of values within the <mark>keys</mark> we see that the vast majority of values, **35,043** are **survey** (**19,901**) and **Bing** (**15,142**). In the remainder of the list there are some minor issues.  For example, there are records with values of <mark>naptan_import;survey</mark>, <mark>naptan_import; survey</mark>, <mark>naptan_import/survey</mark>, and <mark>naptan_import;survet</mark>.  Additionally, there were a few combinations of <mark>Bing;survey</mark> and <mark>NLS_OS_Edinburgh_map_YYYY;Bing;survey</mark>."
   ]
  },
  {
   "cell_type": "markdown",
   "metadata": {},
   "source": [
    "#### Show all keys with value == 'source'\n",
    "```sql\n",
    "SELECT `value`, COUNT(*) as cnt\n",
    "FROM nodes_tags\n",
    "WHERE `key`='source'\n",
    "GROUP BY `value`\n",
    "ORDER BY cnt DESC;\n",
    "```\n",
    "#### Show any value containing 'naptan_import' where key == 'source'\n",
    "```sql\n",
    "SELECT `value`, COUNT(`value`) AS cnt\n",
    "FROM nodes_tags\n",
    "WHERE `key` = 'source' AND `value` REGEXP \"naptan_import\"\n",
    "GROUP BY `value`\n",
    "ORDER BY cnt DESC;\n",
    "```\n",
    "\n",
    "#### Show any value containing 'Bing' where key == 'source'\n",
    "```sql\n",
    "SELECT `value`, COUNT(`value`) AS cnt\n",
    "FROM nodes_tags\n",
    "WHERE `key` = 'source' AND `value` REGEXP \"Bing\"\n",
    "GROUP BY `value`\n",
    "ORDER BY cnt DESC;\n",
    "```"
   ]
  },
  {
   "cell_type": "markdown",
   "metadata": {},
   "source": [
    "To handle these minor variances I decided to use only the first entry in any record with ';'.  This change was made within the `populate_tags` helper function in `prep_for_database.py`"
   ]
  },
  {
   "cell_type": "markdown",
   "metadata": {},
   "source": [
    "#### This code:\n",
    "```python\n",
    "tag_detail['value'] = value\n",
    "```\n",
    "\n",
    "#### Was changed to this code:\n",
    "```python\n",
    "val_strs = val_strs.split(';')\n",
    "tag_detail['value'] = val_strs[0]\n",
    "```"
   ]
  },
  {
   "cell_type": "markdown",
   "metadata": {},
   "source": [
    "### V Attributes with Commas\n",
    "\n",
    "I noticed strange values in the nodes_tags table after importing the csv files.  After digging in to some examples it became clear that the presence of commas was causing the field to be truncated when importing the csv to the database.  To deal with this issue I used a simple regular expression to check for commas in the value string and then used the `string.replace()` method to replace all commas with blank.  Alternatively, I could have escaped the commas, but removing them seemed simpler."
   ]
  },
  {
   "cell_type": "code",
   "execution_count": 3,
   "metadata": {
    "collapsed": false
   },
   "outputs": [
    {
     "data": {
      "text/html": [
       "<style>\n",
       "table {float:left}\n",
       "</style>"
      ],
      "text/plain": [
       "<IPython.core.display.HTML object>"
      ]
     },
     "metadata": {},
     "output_type": "display_data"
    }
   ],
   "source": [
    "%%html\n",
    "<style>\n",
    "table {float:left}\n",
    "</style>"
   ]
  },
  {
   "cell_type": "markdown",
   "metadata": {},
   "source": [
    "## Data Overview\n",
    "\n",
    "### File Sizes\n",
    "\n",
    "| File | Size |\n",
    "|---|:---:|\n",
    "| endinburgh_scotland.osm | 55 MB |\n",
    "| nodes.csv |16  MB |\n",
    "| nodes_tags.csv | 5.3 MB |\n",
    "| ways.csv | 2.2 MB |\n",
    "| ways_nodes.csv | 7.4 MB |\n",
    "| ways_tags.csv | 3.6 MB |"
   ]
  },
  {
   "cell_type": "markdown",
   "metadata": {},
   "source": [
    "### Unique Users\n",
    "\n",
    "Since both the nodes table and ways table contain the field **uid** and there is no foreign key relationship the number of unique users will be a union of the unique users from each table.  Using `UNION` automatically removes duplicates so all we need to do is count the number of records from the result of the union.\n",
    "\n",
    "```sql\n",
    "SELECT COUNT(*)\n",
    "FROM (SELECT uid FROM nodes\n",
    "UNION\n",
    "SELECT uid FROM ways) as users;\n",
    "```\n",
    "\n",
    "There are **291** unique users in the dataset."
   ]
  },
  {
   "cell_type": "markdown",
   "metadata": {},
   "source": [
    "### Number of Nodes and Ways\n",
    "\n",
    "According the the schema, nodes are unique so each record in the nodes table has a unique id\n",
    "\n",
    "```sql\n",
    "SELECT COUNT(*)\n",
    "FROM nodes;\n",
    "```\n",
    "\n",
    "There are **195,524** nodes.\n",
    "\n",
    "Similarly, ways records are unique\n",
    "\n",
    "```sql\n",
    "SELECT COUNT(*)\n",
    "FROM ways;\n",
    "```\n",
    "\n",
    "There are **37,167** ways."
   ]
  },
  {
   "cell_type": "markdown",
   "metadata": {},
   "source": [
    "### Tree Friendly\n",
    "\n",
    "There are **14,667** trees included in this subset of the Edinburgh data.\n",
    "\n",
    "```sql\n",
    "SELECT `key`, `value`, COUNT(*) as cnt\n",
    "FROM nodes_tags \n",
    "WHERE `key` = 'natural'\n",
    "GROUP BY `key`, `value`\n",
    "ORDER BY cnt DESC;\n",
    "```\n",
    "\n",
    "| Key | Value | Count |\n",
    "|---|---|---|\n",
    "| natural | tree | 14,467 |\n",
    "| natural | peak | 7 |\n",
    "| natural | spring | 2 |\n",
    "| natural | cliff | 1 |\n",
    "| natural | mud | 1 |"
   ]
  },
  {
   "cell_type": "markdown",
   "metadata": {},
   "source": [
    "### Bicycle Friendly too\n",
    "\n",
    "The most frequently listed **amenity** is **bicycle_parking**.\n",
    "\n",
    "```sql\n",
    "SELECT `key`, `value`, COUNT(*) as cnt\n",
    "FROM nodes_tags \n",
    "WHERE `key` = 'amenity'\n",
    "GROUP BY `key`, `value`\n",
    "ORDER BY cnt DESC\n",
    "LIMIT 10;\n",
    "```\n",
    "\n",
    "| Key | Value | Count |\n",
    "|---|---|---|\n",
    "| amenity | bicycle_parking | 394 |\n",
    "| amenity | restaurant | 386 |\n",
    "| amenity | bench | 298 |\n",
    "| amenity | cafe | 284 |\n",
    "| amenity | fast_food | 188 |\n",
    "| amenity | pub | 168 |\n",
    "| amenity | motorcycle_parking | 131 |\n",
    "| amenity | telephone | 128 |\n",
    "| amenity | post_box | 108 |\n",
    "| amenity | atm | 103 |"
   ]
  },
  {
   "cell_type": "markdown",
   "metadata": {},
   "source": [
    "### Sources\n",
    "\n",
    "I was initially surprised by the frequency of **survey** and **Bing** as source values in the nodes_tags, but after looking at the [OpenStreetMap Wiki](http://wiki.openstreetmap.org/wiki/Key:source) these listed among the most common values for **human mappers** in the **Usage Statistics** section.\n",
    "\n",
    "```sql\n",
    "SELECT `key`, `value`, `type`, COUNT(*) as cnt\n",
    "FROM nodes_tags\n",
    "GROUP BY `key`, `value`, `type`\n",
    "ORDER BY cnt DESC\n",
    "LIMIT 10;\n",
    "```\n",
    "\n",
    "| Key | Value | Count |\n",
    "|---|---|---|\n",
    "| source | survey | 19,901 |\n",
    "| city | Edinburgh | 15,155 |\n",
    "| source | Bing | 15,142 |\n",
    "| natural | tree | 14,667 |\n",
    "| country | GB | 14,176 |\n",
    "| denotation | urban | 12,663 |\n",
    "| entrance | yes | 1,158 |\n",
    "| barrier | gate | 927 |\n",
    "| barrier | bollard | 513 |\n",
    "| housenumber | 1 | 509 |"
   ]
  },
  {
   "cell_type": "markdown",
   "metadata": {},
   "source": [
    "### Top Contributors\n",
    "\n",
    "To get a view of what users were making the most contributions I combined all of the activity from nodes, nodes_tags, ways, ways_nodes, and ways_tags.  Every entry in these tables is attributed to a user.\n",
    "\n",
    "```sql\n",
    "SELECT user, COUNT(*) as cnt\n",
    "FROM\n",
    "\t((SELECT n.user FROM nodes n\n",
    "\t\tJOIN\n",
    "\t\t\t(SELECT id FROM nodes\n",
    "\t\t\t\tUNION ALL\n",
    "\t\t\tSELECT id FROM nodes_tags) AS na\n",
    "\t\tON n.id = na.id)\n",
    "\tUNION ALL\n",
    "\t(SELECT w.user FROM ways w\n",
    "\t\tJOIN\n",
    "\t\t\t(SELECT id FROM ways\n",
    "\t\t\t\tUNION ALL\n",
    "\t\t\tSELECT id FROM ways_nodes\n",
    "\t\t\t\tUNION ALL\n",
    "\t\t\tSELECT id FROM ways_tags) AS wa\n",
    "\t\tON w.id = wa.id))\n",
    "\tAS all_activity\n",
    "GROUP BY user\n",
    "ORDER BY cnt DESC\n",
    "LIMIT 10;\n",
    "```\n",
    "\n",
    "| User | Records |\n",
    "|---|---|\n",
    "| eric_ | 284,268 |\n",
    "| sophiemccallum | 262,818 |\n",
    "| eisa | 90,274 |\n",
    "| leilaz | 55,668 |\n",
    "| drnoble | 23,543 |\n",
    "| saintam1 | 12,090 |\n",
    "| rob_michel | 10,793 |\n",
    "| sairfeet | 9,982 |\n",
    "| c0d0 | 6,801 |\n",
    "| Rostranimin | 5,906 |\n"
   ]
  },
  {
   "cell_type": "markdown",
   "metadata": {},
   "source": [
    "### Ideas\n",
    "\n",
    "The biggest issue with this dataset is that when a node has only a single node_tag it is a k=\"source\" attribute, which refers to the source of the node information.  This is different from additional node_tags which are descriptive of the location or item being identified (e.g. k=\"highway\" v=\"traffic_signals\").  Though both are node_tags these seem like fundamentally different information and any analysis should probably consider them as separate.\n",
    "\n",
    "It would be interesting to understand why the records in the data set are so heavily concentrated in only two users.  Do other areas have similarly skewed distributions of user contributions?  I would also be curious to expand the map area and see how far these users contributions extend."
   ]
  },
  {
   "cell_type": "markdown",
   "metadata": {},
   "source": [
    "### Data quality\n",
    "\n",
    "In general, the data that is available seems reasonably clean.  If I were to continue to make improvements I may fix minor issues such as keys with similar meanings (e.g. **url** and **website**).  I would also dig further into the use of non-ascii characters.  In this project I used a function to detect any strings with non-ascii characters and excluded them."
   ]
  },
  {
   "cell_type": "code",
   "execution_count": null,
   "metadata": {
    "collapsed": true
   },
   "outputs": [],
   "source": []
  }
 ],
 "metadata": {
  "kernelspec": {
   "display_name": "Python 3",
   "language": "python",
   "name": "python3"
  },
  "language_info": {
   "codemirror_mode": {
    "name": "ipython",
    "version": 3
   },
   "file_extension": ".py",
   "mimetype": "text/x-python",
   "name": "python",
   "nbconvert_exporter": "python",
   "pygments_lexer": "ipython3",
   "version": "3.6.0"
  }
 },
 "nbformat": 4,
 "nbformat_minor": 2
}
